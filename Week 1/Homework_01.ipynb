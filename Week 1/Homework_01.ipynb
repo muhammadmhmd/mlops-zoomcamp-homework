{
 "cells": [
  {
   "cell_type": "markdown",
   "id": "475ace16",
   "metadata": {},
   "source": [
    "# Q1. Downloading the data"
   ]
  },
  {
   "cell_type": "code",
   "execution_count": 1,
   "id": "6549d368",
   "metadata": {
    "ExecuteTime": {
     "end_time": "2022-05-24T09:54:55.230131Z",
     "start_time": "2022-05-24T09:54:54.887133Z"
    }
   },
   "outputs": [],
   "source": [
    "import pandas as pd"
   ]
  },
  {
   "cell_type": "code",
   "execution_count": 2,
   "id": "5703b7f3",
   "metadata": {
    "ExecuteTime": {
     "end_time": "2022-05-24T09:54:57.556131Z",
     "start_time": "2022-05-24T09:54:55.232132Z"
    }
   },
   "outputs": [],
   "source": [
    "jan = pd.read_parquet('fhv_tripdata_2021-01.parquet',engine='fastparquet')"
   ]
  },
  {
   "cell_type": "code",
   "execution_count": 3,
   "id": "c7513561",
   "metadata": {
    "ExecuteTime": {
     "end_time": "2022-05-24T09:54:57.586132Z",
     "start_time": "2022-05-24T09:54:57.559133Z"
    }
   },
   "outputs": [
    {
     "data": {
      "text/html": [
       "<div>\n",
       "<style scoped>\n",
       "    .dataframe tbody tr th:only-of-type {\n",
       "        vertical-align: middle;\n",
       "    }\n",
       "\n",
       "    .dataframe tbody tr th {\n",
       "        vertical-align: top;\n",
       "    }\n",
       "\n",
       "    .dataframe thead th {\n",
       "        text-align: right;\n",
       "    }\n",
       "</style>\n",
       "<table border=\"1\" class=\"dataframe\">\n",
       "  <thead>\n",
       "    <tr style=\"text-align: right;\">\n",
       "      <th></th>\n",
       "      <th>dispatching_base_num</th>\n",
       "      <th>pickup_datetime</th>\n",
       "      <th>dropOff_datetime</th>\n",
       "      <th>PUlocationID</th>\n",
       "      <th>DOlocationID</th>\n",
       "      <th>SR_Flag</th>\n",
       "      <th>Affiliated_base_number</th>\n",
       "    </tr>\n",
       "  </thead>\n",
       "  <tbody>\n",
       "    <tr>\n",
       "      <th>0</th>\n",
       "      <td>B00009</td>\n",
       "      <td>2021-01-01 00:27:00</td>\n",
       "      <td>2021-01-01 00:44:00</td>\n",
       "      <td>NaN</td>\n",
       "      <td>NaN</td>\n",
       "      <td>NaN</td>\n",
       "      <td>B00009</td>\n",
       "    </tr>\n",
       "    <tr>\n",
       "      <th>1</th>\n",
       "      <td>B00009</td>\n",
       "      <td>2021-01-01 00:50:00</td>\n",
       "      <td>2021-01-01 01:07:00</td>\n",
       "      <td>NaN</td>\n",
       "      <td>NaN</td>\n",
       "      <td>NaN</td>\n",
       "      <td>B00009</td>\n",
       "    </tr>\n",
       "    <tr>\n",
       "      <th>2</th>\n",
       "      <td>B00013</td>\n",
       "      <td>2021-01-01 00:01:00</td>\n",
       "      <td>2021-01-01 01:51:00</td>\n",
       "      <td>NaN</td>\n",
       "      <td>NaN</td>\n",
       "      <td>NaN</td>\n",
       "      <td>B00013</td>\n",
       "    </tr>\n",
       "    <tr>\n",
       "      <th>3</th>\n",
       "      <td>B00037</td>\n",
       "      <td>2021-01-01 00:13:09</td>\n",
       "      <td>2021-01-01 00:21:26</td>\n",
       "      <td>NaN</td>\n",
       "      <td>72.0</td>\n",
       "      <td>NaN</td>\n",
       "      <td>B00037</td>\n",
       "    </tr>\n",
       "    <tr>\n",
       "      <th>4</th>\n",
       "      <td>B00037</td>\n",
       "      <td>2021-01-01 00:38:31</td>\n",
       "      <td>2021-01-01 00:53:44</td>\n",
       "      <td>NaN</td>\n",
       "      <td>61.0</td>\n",
       "      <td>NaN</td>\n",
       "      <td>B00037</td>\n",
       "    </tr>\n",
       "  </tbody>\n",
       "</table>\n",
       "</div>"
      ],
      "text/plain": [
       "  dispatching_base_num     pickup_datetime    dropOff_datetime  PUlocationID  \\\n",
       "0               B00009 2021-01-01 00:27:00 2021-01-01 00:44:00           NaN   \n",
       "1               B00009 2021-01-01 00:50:00 2021-01-01 01:07:00           NaN   \n",
       "2               B00013 2021-01-01 00:01:00 2021-01-01 01:51:00           NaN   \n",
       "3               B00037 2021-01-01 00:13:09 2021-01-01 00:21:26           NaN   \n",
       "4               B00037 2021-01-01 00:38:31 2021-01-01 00:53:44           NaN   \n",
       "\n",
       "   DOlocationID  SR_Flag Affiliated_base_number  \n",
       "0           NaN      NaN                 B00009  \n",
       "1           NaN      NaN                 B00009  \n",
       "2           NaN      NaN                 B00013  \n",
       "3          72.0      NaN                 B00037  \n",
       "4          61.0      NaN                 B00037  "
      ]
     },
     "execution_count": 3,
     "metadata": {},
     "output_type": "execute_result"
    }
   ],
   "source": [
    "jan.head()"
   ]
  },
  {
   "cell_type": "code",
   "execution_count": 4,
   "id": "daa5bc7d",
   "metadata": {
    "ExecuteTime": {
     "end_time": "2022-05-24T09:54:57.777131Z",
     "start_time": "2022-05-24T09:54:57.587130Z"
    }
   },
   "outputs": [
    {
     "name": "stdout",
     "output_type": "stream",
     "text": [
      "<class 'pandas.core.frame.DataFrame'>\n",
      "RangeIndex: 1154112 entries, 0 to 1154111\n",
      "Data columns (total 7 columns):\n",
      " #   Column                  Non-Null Count    Dtype         \n",
      "---  ------                  --------------    -----         \n",
      " 0   dispatching_base_num    1154112 non-null  object        \n",
      " 1   pickup_datetime         1154112 non-null  datetime64[ns]\n",
      " 2   dropOff_datetime        1154112 non-null  datetime64[ns]\n",
      " 3   PUlocationID            195845 non-null   float64       \n",
      " 4   DOlocationID            991892 non-null   float64       \n",
      " 5   SR_Flag                 0 non-null        float64       \n",
      " 6   Affiliated_base_number  1153227 non-null  object        \n",
      "dtypes: datetime64[ns](2), float64(3), object(2)\n",
      "memory usage: 61.6+ MB\n"
     ]
    }
   ],
   "source": [
    "jan.info()"
   ]
  },
  {
   "cell_type": "code",
   "execution_count": 6,
   "id": "ec4dc11c",
   "metadata": {
    "ExecuteTime": {
     "end_time": "2022-05-24T09:55:17.586565Z",
     "start_time": "2022-05-24T09:55:17.560019Z"
    }
   },
   "outputs": [],
   "source": [
    "jan = jan.drop('SR_Flag',axis = 1)"
   ]
  },
  {
   "cell_type": "markdown",
   "id": "ab6f5f4c",
   "metadata": {},
   "source": [
    "## Question 1: Number of records in Jan 2021 FHV data\n"
   ]
  },
  {
   "cell_type": "code",
   "execution_count": 7,
   "id": "6b2ea6a0",
   "metadata": {
    "ExecuteTime": {
     "end_time": "2022-05-24T09:55:33.221103Z",
     "start_time": "2022-05-24T09:55:33.203561Z"
    },
    "scrolled": true
   },
   "outputs": [
    {
     "data": {
      "text/plain": [
       "1154112"
      ]
     },
     "execution_count": 7,
     "metadata": {},
     "output_type": "execute_result"
    }
   ],
   "source": [
    "len(jan)"
   ]
  },
  {
   "cell_type": "markdown",
   "id": "1963bb74",
   "metadata": {},
   "source": [
    "# Q2. Computing duration"
   ]
  },
  {
   "cell_type": "markdown",
   "id": "85f22ba2",
   "metadata": {},
   "source": [
    "## Question 2: Average duration in Jan 2021 FHV\n",
    "\n"
   ]
  },
  {
   "cell_type": "code",
   "execution_count": 8,
   "id": "aa7c3b28",
   "metadata": {
    "ExecuteTime": {
     "end_time": "2022-05-24T09:55:39.419150Z",
     "start_time": "2022-05-24T09:55:33.222104Z"
    }
   },
   "outputs": [],
   "source": [
    "jan['duration'] = jan.dropOff_datetime - jan.pickup_datetime\n",
    "jan.duration = jan.duration.apply(lambda td: td.total_seconds() / 60)"
   ]
  },
  {
   "cell_type": "code",
   "execution_count": 9,
   "id": "763768b2",
   "metadata": {
    "ExecuteTime": {
     "end_time": "2022-05-24T09:55:39.435184Z",
     "start_time": "2022-05-24T09:55:39.420150Z"
    },
    "scrolled": true
   },
   "outputs": [
    {
     "data": {
      "text/plain": [
       "19.1672240937939"
      ]
     },
     "execution_count": 9,
     "metadata": {},
     "output_type": "execute_result"
    }
   ],
   "source": [
    "jan.duration.mean()"
   ]
  },
  {
   "cell_type": "markdown",
   "id": "647320ef",
   "metadata": {},
   "source": [
    "# Data Preparation"
   ]
  },
  {
   "cell_type": "code",
   "execution_count": 10,
   "id": "4783d011",
   "metadata": {
    "ExecuteTime": {
     "end_time": "2022-05-24T09:55:41.643198Z",
     "start_time": "2022-05-24T09:55:39.436184Z"
    }
   },
   "outputs": [
    {
     "data": {
      "image/png": "[encoded data removed]",
      "text/plain": [
       "<Figure size 360x360 with 1 Axes>"
      ]
     },
     "metadata": {
      "needs_background": "light"
     },
     "output_type": "display_data"
    }
   ],
   "source": [
    "import seaborn as sns\n",
    "import matplotlib.pyplot as plt\n",
    "sns.displot(data=jan, x=\"duration\",log_scale=True)\n",
    "plt.show()"
   ]
  },
  {
   "cell_type": "code",
   "execution_count": 11,
   "id": "0cd6de77",
   "metadata": {
    "ExecuteTime": {
     "end_time": "2022-05-24T09:55:41.674717Z",
     "start_time": "2022-05-24T09:55:41.644199Z"
    }
   },
   "outputs": [
    {
     "name": "stdout",
     "output_type": "stream",
     "text": [
      "total dropped records: 15024\n"
     ]
    }
   ],
   "source": [
    "drop = len(jan[~(jan.duration >= 1)&(jan.duration <= 60)])\n",
    "print('total dropped records:',drop)"
   ]
  },
  {
   "cell_type": "code",
   "execution_count": 12,
   "id": "404d09c7",
   "metadata": {
    "ExecuteTime": {
     "end_time": "2022-05-24T09:55:41.722715Z",
     "start_time": "2022-05-24T09:55:41.675715Z"
    }
   },
   "outputs": [],
   "source": [
    "jan = jan[(jan.duration >= 1)&(jan.duration <= 60)]"
   ]
  },
  {
   "cell_type": "code",
   "execution_count": 13,
   "id": "1347b1b6",
   "metadata": {
    "ExecuteTime": {
     "end_time": "2022-05-24T09:55:42.166716Z",
     "start_time": "2022-05-24T09:55:41.723717Z"
    }
   },
   "outputs": [
    {
     "data": {
      "image/png": "[encoded data removed]",
      "text/plain": [
       "<Figure size 360x360 with 1 Axes>"
      ]
     },
     "metadata": {
      "needs_background": "light"
     },
     "output_type": "display_data"
    }
   ],
   "source": [
    "import seaborn as sns\n",
    "import matplotlib.pyplot as plt\n",
    "sns.displot(data=jan, x=\"duration\")\n",
    "plt.show()"
   ]
  },
  {
   "cell_type": "markdown",
   "id": "4395238c",
   "metadata": {},
   "source": [
    "# Q3. Missing values"
   ]
  },
  {
   "cell_type": "markdown",
   "id": "494c8674",
   "metadata": {},
   "source": [
    "## Question 3: Fraction of missing values\n",
    "\n"
   ]
  },
  {
   "cell_type": "code",
   "execution_count": 14,
   "id": "ee6b64f0",
   "metadata": {
    "ExecuteTime": {
     "end_time": "2022-05-24T09:55:42.340716Z",
     "start_time": "2022-05-24T09:55:42.167716Z"
    }
   },
   "outputs": [
    {
     "data": {
      "text/plain": [
       "0.8352732770722617"
      ]
     },
     "execution_count": 14,
     "metadata": {},
     "output_type": "execute_result"
    }
   ],
   "source": [
    "(jan.isnull().sum()/len(jan)).sort_values(ascending =False)[0]"
   ]
  },
  {
   "cell_type": "code",
   "execution_count": 15,
   "id": "a5e7722d",
   "metadata": {
    "ExecuteTime": {
     "end_time": "2022-05-24T09:58:22.416122Z",
     "start_time": "2022-05-24T09:58:19.225558Z"
    }
   },
   "outputs": [],
   "source": [
    "jan = jan.fillna(-1)"
   ]
  },
  {
   "cell_type": "markdown",
   "id": "8b7cfb8e",
   "metadata": {},
   "source": [
    "# Q4. One-hot encoding"
   ]
  },
  {
   "cell_type": "code",
   "execution_count": 16,
   "id": "4ffc5119",
   "metadata": {
    "ExecuteTime": {
     "end_time": "2022-05-24T09:59:42.445314Z",
     "start_time": "2022-05-24T09:59:42.404374Z"
    }
   },
   "outputs": [],
   "source": [
    "categorical = [\"PUlocationID\", \"DOlocationID\"]\n",
    "jan = jan[categorical + [\"duration\"]]"
   ]
  },
  {
   "cell_type": "code",
   "execution_count": 25,
   "id": "181bcb21",
   "metadata": {
    "ExecuteTime": {
     "end_time": "2022-05-24T10:03:50.228299Z",
     "start_time": "2022-05-24T10:03:48.415753Z"
    }
   },
   "outputs": [],
   "source": [
    "jan[categorical] = jan[categorical].astype(str)\n",
    "train_dicts = jan[categorical].to_dict(orient='records')"
   ]
  },
  {
   "cell_type": "code",
   "execution_count": 26,
   "id": "5886d42c",
   "metadata": {
    "ExecuteTime": {
     "end_time": "2022-05-24T10:03:55.288730Z",
     "start_time": "2022-05-24T10:03:53.705651Z"
    }
   },
   "outputs": [
    {
     "data": {
      "text/plain": [
       "(1109826, 525)"
      ]
     },
     "execution_count": 26,
     "metadata": {},
     "output_type": "execute_result"
    }
   ],
   "source": [
    "from sklearn.feature_extraction import DictVectorizer\n",
    "dv = DictVectorizer()\n",
    "X_train = dv.fit_transform(train_dicts)\n",
    "X_train.shape"
   ]
  },
  {
   "cell_type": "markdown",
   "id": "ee0edcfa",
   "metadata": {},
   "source": [
    "# Q5. Training a model"
   ]
  },
  {
   "cell_type": "code",
   "execution_count": 33,
   "id": "3e0f37b4",
   "metadata": {
    "ExecuteTime": {
     "end_time": "2022-05-24T10:07:32.671802Z",
     "start_time": "2022-05-24T10:07:25.711195Z"
    }
   },
   "outputs": [
    {
     "data": {
      "text/plain": [
       "LinearRegression()"
      ]
     },
     "execution_count": 33,
     "metadata": {},
     "output_type": "execute_result"
    }
   ],
   "source": [
    "from sklearn.linear_model import LinearRegression\n",
    "from sklearn.metrics import mean_squared_error\n",
    "\n",
    "lr = LinearRegression()\n",
    "y_train = jan.duration.values\n",
    "lr.fit(X_train,y_train)"
   ]
  },
  {
   "cell_type": "code",
   "execution_count": 36,
   "id": "0b3f2dbb",
   "metadata": {
    "ExecuteTime": {
     "end_time": "2022-05-24T10:08:48.735555Z",
     "start_time": "2022-05-24T10:08:48.705010Z"
    }
   },
   "outputs": [
    {
     "data": {
      "text/plain": [
       "10.528519107205959"
      ]
     },
     "execution_count": 36,
     "metadata": {},
     "output_type": "execute_result"
    }
   ],
   "source": [
    "y_pred = lr.predict(X_train)\n",
    "mean_squared_error(y_train,y_pred,squared=False)"
   ]
  },
  {
   "cell_type": "markdown",
   "id": "dbaa78b7",
   "metadata": {},
   "source": [
    "# Q6. Evaluating the model"
   ]
  },
  {
   "cell_type": "code",
   "execution_count": 38,
   "id": "4c151c15",
   "metadata": {
    "ExecuteTime": {
     "end_time": "2022-05-24T10:15:08.688480Z",
     "start_time": "2022-05-24T10:15:08.683482Z"
    }
   },
   "outputs": [],
   "source": [
    "def read_df(file):\n",
    "    df = pd.read_parquet(file,engine='fastparquet')\n",
    "    \n",
    "    df['duration'] = df.dropOff_datetime - df.pickup_datetime\n",
    "    df.duration = df.duration.apply(lambda td: td.total_seconds() / 60)\n",
    "    df = df.fillna(-1)\n",
    "\n",
    "    df = df[(df.duration >= 1)&(df.duration <= 60)]\n",
    "    df = df[categorical + [\"duration\"]]\n",
    "    df[categorical] = df[categorical].astype(str)\n",
    "    \n",
    "    return df"
   ]
  },
  {
   "cell_type": "code",
   "execution_count": 39,
   "id": "89b846a9",
   "metadata": {
    "ExecuteTime": {
     "end_time": "2022-05-24T10:15:38.743176Z",
     "start_time": "2022-05-24T10:15:28.967817Z"
    }
   },
   "outputs": [],
   "source": [
    "feb = read_df('fhv_tripdata_2021-02.parquet')"
   ]
  },
  {
   "cell_type": "code",
   "execution_count": 40,
   "id": "81dc395c",
   "metadata": {
    "ExecuteTime": {
     "end_time": "2022-05-24T10:15:42.267677Z",
     "start_time": "2022-05-24T10:15:42.254260Z"
    }
   },
   "outputs": [
    {
     "data": {
      "text/html": [
       "<div>\n",
       "<style scoped>\n",
       "    .dataframe tbody tr th:only-of-type {\n",
       "        vertical-align: middle;\n",
       "    }\n",
       "\n",
       "    .dataframe tbody tr th {\n",
       "        vertical-align: top;\n",
       "    }\n",
       "\n",
       "    .dataframe thead th {\n",
       "        text-align: right;\n",
       "    }\n",
       "</style>\n",
       "<table border=\"1\" class=\"dataframe\">\n",
       "  <thead>\n",
       "    <tr style=\"text-align: right;\">\n",
       "      <th></th>\n",
       "      <th>PUlocationID</th>\n",
       "      <th>DOlocationID</th>\n",
       "      <th>duration</th>\n",
       "    </tr>\n",
       "  </thead>\n",
       "  <tbody>\n",
       "    <tr>\n",
       "      <th>1</th>\n",
       "      <td>173.0</td>\n",
       "      <td>82.0</td>\n",
       "      <td>10.666667</td>\n",
       "    </tr>\n",
       "    <tr>\n",
       "      <th>2</th>\n",
       "      <td>173.0</td>\n",
       "      <td>56.0</td>\n",
       "      <td>14.566667</td>\n",
       "    </tr>\n",
       "    <tr>\n",
       "      <th>3</th>\n",
       "      <td>82.0</td>\n",
       "      <td>129.0</td>\n",
       "      <td>7.950000</td>\n",
       "    </tr>\n",
       "    <tr>\n",
       "      <th>4</th>\n",
       "      <td>-1.0</td>\n",
       "      <td>225.0</td>\n",
       "      <td>13.800000</td>\n",
       "    </tr>\n",
       "    <tr>\n",
       "      <th>5</th>\n",
       "      <td>-1.0</td>\n",
       "      <td>61.0</td>\n",
       "      <td>8.966667</td>\n",
       "    </tr>\n",
       "  </tbody>\n",
       "</table>\n",
       "</div>"
      ],
      "text/plain": [
       "  PUlocationID DOlocationID   duration\n",
       "1        173.0         82.0  10.666667\n",
       "2        173.0         56.0  14.566667\n",
       "3         82.0        129.0   7.950000\n",
       "4         -1.0        225.0  13.800000\n",
       "5         -1.0         61.0   8.966667"
      ]
     },
     "execution_count": 40,
     "metadata": {},
     "output_type": "execute_result"
    }
   ],
   "source": [
    "feb.head()"
   ]
  },
  {
   "cell_type": "code",
   "execution_count": 41,
   "id": "7a4a6580",
   "metadata": {
    "ExecuteTime": {
     "end_time": "2022-05-24T10:17:44.712656Z",
     "start_time": "2022-05-24T10:17:41.868588Z"
    }
   },
   "outputs": [
    {
     "data": {
      "text/plain": [
       "(990113, 525)"
      ]
     },
     "execution_count": 41,
     "metadata": {},
     "output_type": "execute_result"
    }
   ],
   "source": [
    "test_dicts = feb[categorical].to_dict(orient='records')\n",
    "X_test = dv.transform(test_dicts)\n",
    "X_test.shape"
   ]
  },
  {
   "cell_type": "code",
   "execution_count": 43,
   "id": "0f5b0964",
   "metadata": {
    "ExecuteTime": {
     "end_time": "2022-05-24T10:19:55.428902Z",
     "start_time": "2022-05-24T10:19:55.408900Z"
    }
   },
   "outputs": [
    {
     "data": {
      "text/plain": [
       "11.01428314240328"
      ]
     },
     "execution_count": 43,
     "metadata": {},
     "output_type": "execute_result"
    }
   ],
   "source": [
    "y_test = feb.duration.values\n",
    "y_pred_test = lr.predict(X_test)\n",
    "mean_squared_error(y_test,y_pred_test,squared=False)"
   ]
  }
 ],
 "metadata": {
  "kernelspec": {
   "display_name": "Python 3 (ipykernel)",
   "language": "python",
   "name": "python3"
  },
  "language_info": {
   "codemirror_mode": {
    "name": "ipython",
    "version": 3
   },
   "file_extension": ".py",
   "mimetype": "text/x-python",
   "name": "python",
   "nbconvert_exporter": "python",
   "pygments_lexer": "ipython3",
   "version": "3.9.12"
  },
  "toc": {
   "base_numbering": 1,
   "nav_menu": {},
   "number_sections": true,
   "sideBar": true,
   "skip_h1_title": false,
   "title_cell": "Table of Contents",
   "title_sidebar": "Contents",
   "toc_cell": false,
   "toc_position": {},
   "toc_section_display": true,
   "toc_window_display": false
  },
  "varInspector": {
   "cols": {
    "lenName": 16,
    "lenType": 16,
    "lenVar": 40
   },
   "kernels_config": {
    "python": {
     "delete_cmd_postfix": "",
     "delete_cmd_prefix": "del ",
     "library": "var_list.py",
     "varRefreshCmd": "print(var_dic_list())"
    },
    "r": {
     "delete_cmd_postfix": ") ",
     "delete_cmd_prefix": "rm(",
     "library": "var_list.r",
     "varRefreshCmd": "cat(var_dic_list()) "
    }
   },
   "types_to_exclude": [
    "module",
    "function",
    "builtin_function_or_method",
    "instance",
    "_Feature"
   ],
   "window_display": false
  }
 },
 "nbformat": 4,
 "nbformat_minor": 5
}
